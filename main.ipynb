{
 "cells": [
  {
   "cell_type": "code",
   "execution_count": null,
   "id": "766d2453",
   "metadata": {},
   "outputs": [],
   "source": [
    "from langchain_community.document_loaders import TextLoader\n",
    "from langchain_text_splitters import CharacterTextSplitter\n",
    "from langchain_chroma import Chroma"
   ]
  },
  {
   "cell_type": "code",
   "execution_count": null,
   "id": "77dc3109",
   "metadata": {},
   "outputs": [],
   "source": [
    "import pandas as pd\n",
    "doc = pd.read_csv(\"dataset/book_cleaned.csv\")\n",
    "doc.head()"
   ]
  },
  {
   "cell_type": "code",
   "execution_count": null,
   "id": "fe6aea14",
   "metadata": {},
   "outputs": [],
   "source": [
    "raw_documents = TextLoader(\"Tagged_description.txt\").load()"
   ]
  },
  {
   "cell_type": "code",
   "execution_count": null,
   "id": "3e42119c",
   "metadata": {},
   "outputs": [],
   "source": [
    "from langchain_community.embeddings import HuggingFaceEmbeddings\n",
    "\n",
    "embedding = HuggingFaceEmbeddings(model_name=\"sentence-transformers/all-MiniLM-L6-v2\")\n",
    "# --- Tạo database ---\n",
    "db_books = Chroma.from_documents(\n",
    "    documents,\n",
    "    embedding,\n",
    ")\n",
    "\n",
    "print(\"✅ Tạo db_books thành công!\")\n"
   ]
  },
  {
   "cell_type": "code",
   "execution_count": null,
   "id": "ed14dcc0",
   "metadata": {},
   "outputs": [],
   "source": [
    "def retrieve_semantic_recommendations(query:str,top_k:int=10)->pd.DataFrame:\n",
    "    recs = db_books.similarity_search(query,k=50)\n",
    "    book_list = []\n",
    "    for i in range(0,len(recs)):\n",
    "        # Strip leading/trailing quotes before splitting\n",
    "        isbn_str = recs[i].page_content.strip('\"')\n",
    "        book_list += [int(isbn_str.split(\":\")[0])]\n",
    "    return doc[doc[\"isbn13\"].isin(book_list)].head(top_k)"
   ]
  },
  {
   "cell_type": "code",
   "execution_count": null,
   "id": "eb91fe57",
   "metadata": {},
   "outputs": [],
   "source": [
    "import gradio as gr\n",
    "\n",
    "def recommend_books(query):\n",
    "    \"\"\"\n",
    "    Retrieves semantic recommendations for a given query and returns formatted output including images.\n",
    "    \"\"\"\n",
    "    # Add a check for empty query\n",
    "    if not query:\n",
    "        return \"Vui lòng nhập yêu cầu về sách.\", []\n",
    "\n",
    "    recommendations_df = retrieve_semantic_recommendations(query)\n",
    "    if recommendations_df.empty:\n",
    "        return \"Không tìm thấy sách nào phù hợp với yêu cầu của bạn.\", []\n",
    "    else:\n",
    "        # Format the output for better readability in Gradio\n",
    "        formatted_output = \"Các sách được gợi ý:\\n\\n\"\n",
    "        image_urls = []\n",
    "        for index, row in recommendations_df.iterrows():\n",
    "            formatted_output += f\"Tiêu đề: {row['title']}\\n\"\n",
    "            formatted_output += f\"Tác giả: {row['authors']}\\n\"\n",
    "            formatted_output += f\"Thể loại: {row['categories']}\\n\"\n",
    "            formatted_output += f\"Đánh giá trung bình: {row['average_rating']}\\n\"\n",
    "            formatted_output += f\"Số trang: {row['num_pages']}\\n\"\n",
    "            formatted_output += f\"Mô tả: {row['description'][:200]}...\\n\\n\" # Limit description length\n",
    "            image_urls.append(row['thumbnail']) # Collect thumbnail URLs\n",
    "\n",
    "        return formatted_output, image_urls\n",
    "\n",
    "def on_book_select(evt: gr.SelectData):\n",
    "    \"\"\"\n",
    "    Placeholder function to be triggered when a book is selected from the gallery.\n",
    "    \"\"\"\n",
    "    print(f\"Book selected: {evt.index}\")\n",
    "    # In the next step, this function will be updated to display similar books.\n",
    "    pass\n",
    "\n",
    "# Create the Gradio interface using gr.Blocks\n",
    "with gr.Blocks(theme=gr.themes.Soft(), title=\"Hệ thống gợi ý sách\") as demo:\n",
    "    gr.Markdown(\"## Hệ thống gợi ý sách\")\n",
    "    gr.Markdown(\"Nhập mô tả về loại sách bạn muốn để nhận gợi ý.\")\n",
    "    txt_input = gr.Textbox(lines=2, placeholder=\"Nhập yêu cầu của bạn về sách...\")\n",
    "    btn_recommend = gr.Button(\"Gợi ý sách\")\n",
    "    txt_output = gr.Textbox(label=\"Thông tin sách\")\n",
    "    gallery_output = gr.Gallery(label=\"Hình ảnh bìa sách\", object_fit=\"contain\", interactive=True)\n",
    "\n",
    "    btn_recommend.click(\n",
    "        fn=recommend_books,\n",
    "        inputs=txt_input,\n",
    "        outputs=[txt_output, gallery_output]\n",
    "    )\n",
    "\n",
    "    # Add the event listener to the gallery output\n",
    "    gallery_output.select(\n",
    "        fn=on_book_select,\n",
    "        inputs=None, # No inputs needed for the select event data\n",
    "        outputs=None # No output for this placeholder function yet\n",
    "    )\n",
    "\n",
    "\n",
    "# Launch the Gradio app\n",
    "demo.launch(debug=True, share=True, height=800) # Increase height and enable sharing"
   ]
  }
 ],
 "metadata": {
  "language_info": {
   "name": "python"
  }
 },
 "nbformat": 4,
 "nbformat_minor": 5
}
